{
 "cells": [
  {
   "cell_type": "code",
   "execution_count": 3,
   "id": "84075283-ab3c-4125-a659-2d06bfec3436",
   "metadata": {},
   "outputs": [],
   "source": [
    "def to_n_bits(n,x):\n",
    "    return Integer(x).digits(base=2,padto=n)[::-1]\n",
    "\n",
    "def vec2int(v):\n",
    "    return int(''.join(str(x) for x in v),2)\n",
    "\n",
    "def int2vec(x):\n",
    "    sp = VectorSpace(GF(2),64)\n",
    "    return sp(to_n_bits(64,x))\n",
    "\n",
    "def save_list(in_list,filename):\n",
    "    res = []\n",
    "    for l in in_list :\n",
    "        res.append([list(map(vec2int,x.basis())) for x in l])\n",
    "    save(res,filename)\n",
    "\n",
    "def load_list(filename):\n",
    "    sp = VectorSpace(GF(2),64)\n",
    "    out_list = load(filename)\n",
    "    res = []\n",
    "    for l in out_list:\n",
    "        res.append([sp.subspace((list(map(int2vec,x)))) for x in l])\n",
    "    return res"
   ]
  },
  {
   "cell_type": "code",
   "execution_count": 4,
   "id": "4914a819-6a64-42ec-bd44-b16177786000",
   "metadata": {},
   "outputs": [],
   "source": [
    "trails_short = load_list(\"trail_shorts.sobj\")\n",
    "trails_long = load_list(\"trails_long.sobj\")"
   ]
  },
  {
   "cell_type": "code",
   "execution_count": 22,
   "id": "a2fe0fdd-0d4a-47a6-a511-de020b931312",
   "metadata": {},
   "outputs": [],
   "source": [
    "dic = {}\n",
    "for i in range(4,68,4):\n",
    "    dic[i] = 4*[0]\n",
    "for trail in trails_long : \n",
    "    dim = trail[0].dimension()\n",
    "    l = len(trail)\n",
    "    dic[dim][l] += 1\n",
    "save(dic,\"trails_length_by_dim.sobj\")"
   ]
  },
  {
   "cell_type": "code",
   "execution_count": 30,
   "id": "aa765f3f-9b4b-4a6e-89de-4f00c42a1ecd",
   "metadata": {},
   "outputs": [],
   "source": [
    "# TODO : project trails to 32 bits : either 2 bits from 16 SBoxes or all bits from 8 SBoxes\n",
    "def projection_2bits(trail):\n",
    "    sp = VectorSpace(GF(2),32)\n",
    "    subsp = trail[-1]\n",
    "    new_basis = []\n",
    "    basis = subsp.basis()\n",
    "    for vec in basis :\n",
    "        new_vec = sp([vec[i] for i in range(0,64,2)])\n",
    "        new_basis.append(new_vec)\n",
    "    return sp.subspace(new_basis)\n",
    "\n",
    "def projection_8Sboxes(trail):\n",
    "    sp = VectorSpace(GF(2),32)\n",
    "    subsp = trail[-1]\n",
    "    new_basis = []\n",
    "    basis = subsp.basis()\n",
    "    for vec in basis :\n",
    "        new_vec = sp([vec[i] for i in range(0,32)])\n",
    "        new_basis.append(new_vec)\n",
    "    return sp.subspace(new_basis)\n",
    "\n",
    "proj_2 = list(map(projection_2bits,trails_long))\n",
    "proj_Sb = list(map(projection_8Sboxes,trails_long))"
   ]
  },
  {
   "cell_type": "code",
   "execution_count": 41,
   "id": "c4a6e4ce-6d79-4858-8845-fdd96f2e75b6",
   "metadata": {},
   "outputs": [],
   "source": [
    "dims_2bit = list(map(lambda x : x.dimension(), proj_2))\n",
    "dims_8Sb = list(map(lambda x : x.dimension(), proj_Sb))\n",
    "dims_trails = list(map(lambda x : x[-1].dimension(), trails_long))\n",
    "\n",
    "save(dims_2bit, \"dims_2bit.sobj\")\n",
    "save(dims_8Sb, \"dims_8Sb.sobj\")\n",
    "save(dims_trails,\"dims_trails.sobj\")"
   ]
  },
  {
   "cell_type": "code",
   "execution_count": 42,
   "id": "7af87206-4a1b-4f36-bcd8-953f15df89b3",
   "metadata": {},
   "outputs": [],
   "source": [
    "mean_2bit = sum(dims_2bit)/len(dims_2bit)\n",
    "mean_8Sb = sum(dims_8Sb)/len(dims_8Sb)\n",
    "mean_trails = sum(dims_trails)/len(dims_trails)"
   ]
  },
  {
   "cell_type": "code",
   "execution_count": 43,
   "id": "a7edd076-1b2d-4fe1-9a8f-357ac3b27065",
   "metadata": {},
   "outputs": [
    {
     "name": "stdout",
     "output_type": "stream",
     "text": [
      "80672/4369 121504/4369 161344/4369\n"
     ]
    }
   ],
   "source": [
    "print(mean_2bit, mean_8Sb, mean_trails)"
   ]
  },
  {
   "cell_type": "code",
   "execution_count": 45,
   "id": "6641b75a-2d75-4e3b-ab1e-4db5c6239d19",
   "metadata": {},
   "outputs": [
    {
     "name": "stdout",
     "output_type": "stream",
     "text": [
      "18.4646372167544 27.8104829480430 36.9292744335088\n"
     ]
    }
   ],
   "source": [
    "print(n(mean_2bit),n(mean_8Sb), n(mean_trails))"
   ]
  },
  {
   "cell_type": "code",
   "execution_count": 48,
   "id": "289ccc4c-0c45-4a37-b9bf-326912ed17cd",
   "metadata": {},
   "outputs": [
    {
     "name": "stderr",
     "output_type": "stream",
     "text": [
      "IOPub data rate exceeded.\n",
      "The Jupyter server will temporarily stop sending output\n",
      "to the client in order to avoid crashing it.\n",
      "To change this limit, set the config variable\n",
      "`--ServerApp.iopub_data_rate_limit`.\n",
      "\n",
      "Current values:\n",
      "ServerApp.iopub_data_rate_limit=1000000.0 (bytes/sec)\n",
      "ServerApp.rate_limit_window=3.0 (secs)\n",
      "\n"
     ]
    }
   ],
   "source": [
    "print(trails_long)"
   ]
  },
  {
   "cell_type": "code",
   "execution_count": null,
   "id": "2a8df4c8-552b-4ec5-bfc9-45701e3eedae",
   "metadata": {},
   "outputs": [],
   "source": []
  }
 ],
 "metadata": {
  "kernelspec": {
   "display_name": "SageMath 10.3",
   "language": "sage",
   "name": "sagemath"
  },
  "language_info": {
   "codemirror_mode": {
    "name": "ipython",
    "version": 3
   },
   "file_extension": ".py",
   "mimetype": "text/x-python",
   "name": "python",
   "nbconvert_exporter": "python",
   "pygments_lexer": "ipython3",
   "version": "3.12.4"
  }
 },
 "nbformat": 4,
 "nbformat_minor": 5
}
